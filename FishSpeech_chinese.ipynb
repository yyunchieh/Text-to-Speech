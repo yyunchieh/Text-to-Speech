{
 "cells": [
  {
   "cell_type": "code",
   "execution_count": 1,
   "id": "6a4e5336",
   "metadata": {},
   "outputs": [
    {
     "data": {
      "text/plain": [
       "'en_US.UTF-8'"
      ]
     },
     "execution_count": 1,
     "metadata": {},
     "output_type": "execute_result"
    }
   ],
   "source": [
    "import locale\n",
    "locale.setlocale(locale.LC_ALL, \"en_US.UTF-8\")"
   ]
  },
  {
   "cell_type": "code",
   "execution_count": 2,
   "id": "04d1343a",
   "metadata": {},
   "outputs": [
    {
     "name": "stdout",
     "output_type": "stream",
     "text": [
      "Fetching 7 files: 100%|█████████████████████████| 7/7 [00:00<00:00, 1364.13it/s]\n",
      "/home/jaslene0102/checkpoints/fish-speech-1.5\n"
     ]
    }
   ],
   "source": [
    "!huggingface-cli download fishaudio/fish-speech-1.5 --local-dir checkpoints/fish-speech-1.5/"
   ]
  },
  {
   "cell_type": "code",
   "execution_count": 8,
   "id": "b320f14e",
   "metadata": {},
   "outputs": [],
   "source": [
    "import subprocess"
   ]
  },
  {
   "cell_type": "code",
   "execution_count": 5,
   "id": "59513c12",
   "metadata": {},
   "outputs": [],
   "source": [
    "src_audio = r\"D:\\PythonProject\\vo_hutao_draw_appear.wav\""
   ]
  },
  {
   "cell_type": "code",
   "execution_count": 9,
   "id": "21bbe744",
   "metadata": {},
   "outputs": [],
   "source": [
    "checkpoint_path = \"checkpoints/fish-speech-1.5/firefly-gan-vq-fsq-8x1024-21hz-generator.pth\""
   ]
  },
  {
   "cell_type": "code",
   "execution_count": 10,
   "id": "65bf2549",
   "metadata": {},
   "outputs": [
    {
     "name": "stderr",
     "output_type": "stream",
     "text": [
      "python: can't open file '/home/jaslene0102/fish_speech/models/vqgan/inference.py': [Errno 2] No such file or directory\n"
     ]
    },
    {
     "data": {
      "text/plain": [
       "CompletedProcess(args=['python', 'fish_speech/models/vqgan/inference.py', '-i', 'D:\\\\PythonProject\\\\vo_hutao_draw_appear.wav', '--checkpoint-path', 'checkpoints/fish-speech-1.5/firefly-gan-vq-fsq-8x1024-21hz-generator.pth'], returncode=2)"
      ]
     },
     "execution_count": 10,
     "metadata": {},
     "output_type": "execute_result"
    }
   ],
   "source": [
    "subprocess.run([\n",
    "    \"python\", \"fish_speech/models/vqgan/inference.py\",\n",
    "    \"-i\", src_audio,\n",
    "    \"--checkpoint-path\", checkpoint_path\n",
    "])"
   ]
  },
  {
   "cell_type": "code",
   "execution_count": null,
   "id": "7250c0e4",
   "metadata": {},
   "outputs": [],
   "source": []
  }
 ],
 "metadata": {
  "kernelspec": {
   "display_name": "sparktts",
   "language": "python",
   "name": "python3"
  },
  "language_info": {
   "codemirror_mode": {
    "name": "ipython",
    "version": 3
   },
   "file_extension": ".py",
   "mimetype": "text/x-python",
   "name": "python",
   "nbconvert_exporter": "python",
   "pygments_lexer": "ipython3",
   "version": "3.12.9"
  }
 },
 "nbformat": 4,
 "nbformat_minor": 5
}
