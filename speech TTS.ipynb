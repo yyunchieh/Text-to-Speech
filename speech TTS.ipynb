{
 "cells": [
  {
   "cell_type": "code",
   "execution_count": 11,
   "id": "8e6e8337",
   "metadata": {},
   "outputs": [],
   "source": [
    "from transformers import pipeline\n",
    "from datasets import load_dataset\n",
    "import soundfile as sf\n",
    "import torch\n",
    "import numpy as np"
   ]
  },
  {
   "cell_type": "code",
   "execution_count": 12,
   "id": "adf4d9a1",
   "metadata": {},
   "outputs": [
    {
     "name": "stderr",
     "output_type": "stream",
     "text": [
      "Hardware accelerator e.g. GPU is available in the environment, but no `device` argument is passed to the `Pipeline` object. Model will be on CPU.\n"
     ]
    }
   ],
   "source": [
    "synthesiser = pipeline(\"text-to-speech\", \"microsoft/speecht5_tts\")"
   ]
  },
  {
   "cell_type": "code",
   "execution_count": null,
   "id": "4919da0a",
   "metadata": {},
   "outputs": [],
   "source": [
    "embeddings_dataset = load_dataset(\"Matthijs/cmu-arctic-xvectors\", split=\"validation\")\n",
    "speaker_embedding = torch.tensor(embeddings_dataset[7306][\"xvector\"]).unsqueeze(0)"
   ]
  },
  {
   "cell_type": "code",
   "execution_count": 14,
   "id": "e81b312f",
   "metadata": {},
   "outputs": [],
   "source": [
    "texts = [\n",
    "    \"Good morning everyone, and thank you for joining the workshop on annotation in machine learning.\",\n",
    "    \"I am Mary, and I will be guiding you through some hands-on techniques for annotating data that are especially useful for humanities and social sciences research.\",\n",
    "    \"Whether you are working with historical documents, interviews, or visual media, annotation is a foundational step for building machine learning applications or conducting systematic qualitative research.\",\n",
    "    \"Today, we will explore how manual and automated tools can assist your research workflows.\"\n",
    "]\n",
    "\n",
    "audios = []\n",
    "for i, segment in enumerate(texts):\n",
    "    speech = synthesiser(segment, forward_params={\"speaker_embeddings\": speaker_embedding})\n",
    "    #sf.write(f\"speech_part{i}.wav\", speech[\"audio\"], samplerate=speech[\"sampling_rate\"])\n",
    "    audios.append(speech[\"audio\"])"
   ]
  },
  {
   "cell_type": "code",
   "execution_count": 15,
   "id": "4ce45c52",
   "metadata": {},
   "outputs": [],
   "source": [
    "full_audio = np.concatenate(audios)\n",
    "sf.write(\"full_speech.wav\", full_audio, samplerate=speech[\"sampling_rate\"] )\n"
   ]
  }
 ],
 "metadata": {
  "kernelspec": {
   "display_name": "sparktts",
   "language": "python",
   "name": "python3"
  },
  "language_info": {
   "codemirror_mode": {
    "name": "ipython",
    "version": 3
   },
   "file_extension": ".py",
   "mimetype": "text/x-python",
   "name": "python",
   "nbconvert_exporter": "python",
   "pygments_lexer": "ipython3",
   "version": "3.12.9"
  }
 },
 "nbformat": 4,
 "nbformat_minor": 5
}
